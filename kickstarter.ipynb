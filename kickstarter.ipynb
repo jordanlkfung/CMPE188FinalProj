{
 "cells": [
  {
   "cell_type": "code",
   "id": "cd566fe1",
   "metadata": {
    "ExecuteTime": {
     "end_time": "2025-04-29T05:41:45.600697Z",
     "start_time": "2025-04-29T05:41:45.118644Z"
    }
   },
   "source": "import pandas as pd",
   "outputs": [],
   "execution_count": 2
  },
  {
   "metadata": {
    "ExecuteTime": {
     "end_time": "2025-04-29T05:41:45.988049Z",
     "start_time": "2025-04-29T05:41:45.980313Z"
    }
   },
   "cell_type": "code",
   "source": [
    "all_cols = ['Unnamed: 0', 'id', 'photo', 'name', 'blurb', 'goal', 'pledged',\n",
    "       'state', 'slug', 'disable_communication', 'country', 'currency',\n",
    "       'currency_symbol', 'currency_trailing_code', 'deadline',\n",
    "       'state_changed_at', 'created_at', 'launched_at', 'staff_pick',\n",
    "       'backers_count', 'static_usd_rate', 'usd_pledged', 'creator',\n",
    "       'location', 'category', 'profile', 'spotlight', 'urls', 'source_url',\n",
    "       'friends', 'is_starred', 'is_backing', 'permissions', 'name_len',\n",
    "       'name_len_clean', 'blurb_len', 'blurb_len_clean', 'deadline_weekday',\n",
    "       'state_changed_at_weekday', 'created_at_weekday', 'launched_at_weekday',\n",
    "       'deadline_month', 'deadline_day', 'deadline_yr', 'deadline_hr',\n",
    "       'state_changed_at_month', 'state_changed_at_day', 'state_changed_at_yr',\n",
    "       'state_changed_at_hr', 'created_at_month', 'created_at_day',\n",
    "       'created_at_yr', 'created_at_hr', 'launched_at_month',\n",
    "       'launched_at_day', 'launched_at_yr', 'launched_at_hr',\n",
    "       'create_to_launch', 'launch_to_deadline', 'launch_to_state_change']\n",
    "cols_to_drop = ['Unnamed: 0','urls','name','blurb','id','slug',\n",
    "                'photo','currency_trailing_code','friends','is_starred','is_backing','permissions','name_len','blurb_len','profile','static_usd_rate']\n",
    "datetime_columns = ['state_changed_at','created_at', 'launched_at','deadline']\n",
    "\n",
    "year_cols = ['created_at_yr', 'deadline_yr','state_changed_at_yr', 'launched_at_yr']\n",
    "\n",
    "month_day_hr_cols = ['state_changed_at_month','created_at_day','created_at_month', 'created_at_hr', 'launched_at_month','launched_at_day','launched_at_hr',\n",
    "        'deadline_month','deadline_day','deadline_hr', 'state_changed_at_day', 'state_changed_at_hr', ]\n",
    "cat = ['deadline_weekday', 'created_at_weekday', 'state_changed_at_weekday', 'currency_symbol'\n",
    "       'country', 'currency','source_url',\n",
    "       'state','launched_at_weekday'\n",
    "       ]\n",
    "\n",
    "dtype_dict = {\n",
    "    **{col: 'int16' for col in year_cols},\n",
    "    **{col: 'int8' for col in month_day_hr_cols},\n",
    "    **{col: 'category' for col in cat},\n",
    "    'backers_count':'int32'\n",
    "}\n",
    "\n",
    "for i in datetime_columns:\n",
    "    cols_to_drop.append(i)\n",
    "cols_to_keep = [col for col in all_cols if col not in cols_to_drop]"
   ],
   "id": "a3b81f85434fc424",
   "outputs": [],
   "execution_count": 3
  },
  {
   "cell_type": "code",
   "id": "76ec5d60",
   "metadata": {
    "ExecuteTime": {
     "end_time": "2025-04-29T05:41:49.872218Z",
     "start_time": "2025-04-29T05:41:49.055078Z"
    }
   },
   "source": [
    "df = pd.read_csv(\"kickstarter_data_with_features.csv\", usecols=cols_to_keep, dtype=dtype_dict)\n",
    "\n",
    "df.columns"
   ],
   "outputs": [
    {
     "data": {
      "text/plain": [
       "Index(['goal', 'pledged', 'state', 'disable_communication', 'country',\n",
       "       'currency', 'currency_symbol', 'staff_pick', 'backers_count',\n",
       "       'usd_pledged', 'creator', 'location', 'category', 'spotlight',\n",
       "       'source_url', 'name_len_clean', 'blurb_len_clean', 'deadline_weekday',\n",
       "       'state_changed_at_weekday', 'created_at_weekday', 'launched_at_weekday',\n",
       "       'deadline_month', 'deadline_day', 'deadline_yr', 'deadline_hr',\n",
       "       'state_changed_at_month', 'state_changed_at_day', 'state_changed_at_yr',\n",
       "       'state_changed_at_hr', 'created_at_month', 'created_at_day',\n",
       "       'created_at_yr', 'created_at_hr', 'launched_at_month',\n",
       "       'launched_at_day', 'launched_at_yr', 'launched_at_hr',\n",
       "       'create_to_launch', 'launch_to_deadline', 'launch_to_state_change'],\n",
       "      dtype='object')"
      ]
     },
     "execution_count": 4,
     "metadata": {},
     "output_type": "execute_result"
    }
   ],
   "execution_count": 4
  },
  {
   "metadata": {
    "ExecuteTime": {
     "end_time": "2025-04-29T05:41:51.136284Z",
     "start_time": "2025-04-29T05:41:51.127263Z"
    }
   },
   "cell_type": "code",
   "source": [
    "df['currency_symbol'] = df['currency_symbol'].astype('category').cat.codes\n",
    "df['country'] = df['country'].astype('category').cat.codes\n",
    "df['currency'] = df['currency'].astype('category').cat.codes\n",
    "df['state'] = df['state'].astype('category').cat.codes\n",
    "df['source_url'] = df['source_url'].astype('category').cat.codes #this probably has high correlation with category"
   ],
   "id": "3bb260d8b06513ca",
   "outputs": [],
   "execution_count": 5
  },
  {
   "metadata": {
    "ExecuteTime": {
     "end_time": "2025-04-29T05:41:52.500926Z",
     "start_time": "2025-04-29T05:41:52.386495Z"
    }
   },
   "cell_type": "code",
   "source": [
    "df['launch_to_deadline'] = df['launch_to_deadline'].astype(str).str.extract(r'(\\d+ days)')\n",
    "df['create_to_launch'] = df['create_to_launch'].astype(str).str.extract(r'(\\d+ days)')\n",
    "df['launch_to_state_change'] = df['launch_to_state_change'].astype(str).str.extract(r'(\\d+ days)')"
   ],
   "id": "40425d8a9c56f11",
   "outputs": [],
   "execution_count": 6
  },
  {
   "metadata": {
    "ExecuteTime": {
     "end_time": "2025-04-29T05:41:53.442674Z",
     "start_time": "2025-04-29T05:41:53.435951Z"
    }
   },
   "cell_type": "code",
   "source": [
    "df['name_len_clean'] = df['name_len_clean'].fillna(df['name_len_clean'].median())\n",
    "df['name_len_clean'] = df['name_len_clean'].astype('int16')\n",
    "df['blurb_len_clean'] = df['blurb_len_clean'].fillna(df['blurb_len_clean'].median())\n",
    "df['blurb_len_clean'] = df['blurb_len_clean'].astype('int16')\n",
    "\n"
   ],
   "id": "60fcb9ccbe254e6",
   "outputs": [],
   "execution_count": 7
  },
  {
   "metadata": {
    "ExecuteTime": {
     "end_time": "2025-04-29T05:41:54.566638Z",
     "start_time": "2025-04-29T05:41:54.512555Z"
    }
   },
   "cell_type": "code",
   "source": [
    "df['launch_to_deadline'] = df['launch_to_deadline'].astype(str).str.extract(r'(\\d+)')\n",
    "df['create_to_launch'] = df['create_to_launch'].astype(str).str.extract(r'(\\d+)')\n",
    "df['launch_to_state_change'] = df['launch_to_state_change'].astype(str).str.extract(r'(\\d+)')"
   ],
   "id": "b1cf9c37a1661ad2",
   "outputs": [],
   "execution_count": 8
  },
  {
   "metadata": {
    "ExecuteTime": {
     "end_time": "2025-04-29T05:41:55.592075Z",
     "start_time": "2025-04-29T05:41:55.567641Z"
    }
   },
   "cell_type": "code",
   "source": [
    "df['launch_to_deadline'] = pd.to_numeric(df['launch_to_deadline'])\n",
    "df['create_to_launch'] = pd.to_numeric(df['create_to_launch'])\n",
    "df['launch_to_state_change'] = pd.to_numeric(df['launch_to_state_change'])"
   ],
   "id": "f8c4744ca393ac05",
   "outputs": [],
   "execution_count": 9
  },
  {
   "metadata": {
    "ExecuteTime": {
     "end_time": "2025-04-29T05:41:56.664881Z",
     "start_time": "2025-04-29T05:41:56.659636Z"
    }
   },
   "cell_type": "code",
   "source": [
    "df['category'] = df['category'].astype('category').cat.codes\n",
    "\n",
    "df['deadline_weekday'] = df['deadline_weekday'].cat.codes\n",
    "df['state_changed_at_weekday'] = df['state_changed_at_weekday'].cat.codes\n",
    "df['created_at_weekday'] = df['created_at_weekday'].cat.codes\n",
    "df['launched_at_weekday'] = df['launched_at_weekday'].cat.codes\n"
   ],
   "id": "3d4c12adcaba6dce",
   "outputs": [],
   "execution_count": 10
  },
  {
   "cell_type": "code",
   "id": "8bb5844e",
   "metadata": {
    "ExecuteTime": {
     "end_time": "2025-04-28T23:54:46.604709Z",
     "start_time": "2025-04-28T23:54:46.601347Z"
    }
   },
   "source": "print(df.dtypes)",
   "outputs": [
    {
     "name": "stdout",
     "output_type": "stream",
     "text": [
      "goal                        float64\n",
      "pledged                     float64\n",
      "state                          int8\n",
      "disable_communication          bool\n",
      "country                        int8\n",
      "currency                       int8\n",
      "currency_symbol                int8\n",
      "staff_pick                     bool\n",
      "backers_count                 int32\n",
      "usd_pledged                 float64\n",
      "creator                      object\n",
      "location                     object\n",
      "category                       int8\n",
      "spotlight                      bool\n",
      "source_url                     int8\n",
      "name_len_clean                int16\n",
      "blurb_len_clean               int16\n",
      "deadline_weekday               int8\n",
      "state_changed_at_weekday       int8\n",
      "created_at_weekday             int8\n",
      "launched_at_weekday            int8\n",
      "deadline_month                 int8\n",
      "deadline_day                   int8\n",
      "deadline_yr                   int16\n",
      "deadline_hr                    int8\n",
      "state_changed_at_month         int8\n",
      "state_changed_at_day           int8\n",
      "state_changed_at_yr           int16\n",
      "state_changed_at_hr            int8\n",
      "created_at_month               int8\n",
      "created_at_day                 int8\n",
      "created_at_yr                 int16\n",
      "created_at_hr                  int8\n",
      "launched_at_month              int8\n",
      "launched_at_day                int8\n",
      "launched_at_yr                int16\n",
      "launched_at_hr                 int8\n",
      "create_to_launch              int64\n",
      "launch_to_deadline            int64\n",
      "launch_to_state_change      float64\n",
      "dtype: object\n"
     ]
    }
   ],
   "execution_count": 138
  },
  {
   "metadata": {
    "ExecuteTime": {
     "end_time": "2025-04-28T23:54:46.719848Z",
     "start_time": "2025-04-28T23:54:46.632997Z"
    }
   },
   "cell_type": "code",
   "source": "print(df.nunique())",
   "id": "581a92d3",
   "outputs": [
    {
     "name": "stdout",
     "output_type": "stream",
     "text": [
      "goal                         1204\n",
      "pledged                      8722\n",
      "state                           5\n",
      "disable_communication           2\n",
      "country                        21\n",
      "currency                       13\n",
      "currency_symbol                 5\n",
      "staff_pick                      2\n",
      "backers_count                1505\n",
      "usd_pledged                 12235\n",
      "creator                     20522\n",
      "location                     5178\n",
      "category                       25\n",
      "spotlight                       2\n",
      "source_url                     33\n",
      "name_len_clean                 14\n",
      "blurb_len_clean                29\n",
      "deadline_weekday                7\n",
      "state_changed_at_weekday        7\n",
      "created_at_weekday              7\n",
      "launched_at_weekday             7\n",
      "deadline_month                 12\n",
      "deadline_day                   31\n",
      "deadline_yr                     9\n",
      "deadline_hr                    24\n",
      "state_changed_at_month         12\n",
      "state_changed_at_day           31\n",
      "state_changed_at_yr             9\n",
      "state_changed_at_hr            24\n",
      "created_at_month               12\n",
      "created_at_day                 31\n",
      "created_at_yr                   9\n",
      "created_at_hr                  24\n",
      "launched_at_month              12\n",
      "launched_at_day                31\n",
      "launched_at_yr                  9\n",
      "launched_at_hr                 24\n",
      "create_to_launch              686\n",
      "launch_to_deadline             85\n",
      "launch_to_state_change         74\n",
      "dtype: int64\n"
     ]
    }
   ],
   "execution_count": 139
  },
  {
   "metadata": {
    "ExecuteTime": {
     "end_time": "2025-04-29T04:19:33.114675Z",
     "start_time": "2025-04-29T04:19:33.104841Z"
    }
   },
   "cell_type": "code",
   "source": [
    "df['percent_of_goal'] = df['pledged']/df['goal']\n",
    "df['percent_of_goal'].describe()"
   ],
   "id": "364661b5",
   "outputs": [
    {
     "data": {
      "text/plain": [
       "count    20632.000000\n",
       "mean         3.232088\n",
       "std        177.318223\n",
       "min          0.000000\n",
       "25%          0.001500\n",
       "50%          0.065439\n",
       "75%          1.030000\n",
       "max      22603.000000\n",
       "Name: percent_of_goal, dtype: float64"
      ]
     },
     "execution_count": 15,
     "metadata": {},
     "output_type": "execute_result"
    }
   ],
   "execution_count": 15
  },
  {
   "metadata": {
    "ExecuteTime": {
     "end_time": "2025-04-28T23:54:46.838623Z",
     "start_time": "2025-04-28T23:54:46.823331Z"
    }
   },
   "cell_type": "code",
   "source": [
    "achieved_goal = df[df['percent_of_goal'] >=1]\n",
    "achieved_goal.head()"
   ],
   "id": "41a83c81",
   "outputs": [
    {
     "data": {
      "text/plain": [
       "       goal  pledged  state  disable_communication  country  currency  \\\n",
       "180  5000.0  5087.00      3                  False       20        12   \n",
       "181  3000.0  3007.56      3                  False       20        12   \n",
       "182  3000.0  4410.00      3                  False       20        12   \n",
       "183  2000.0  2041.00      3                  False       20        12   \n",
       "184  2500.0  2524.00      3                  False       20        12   \n",
       "\n",
       "     currency_symbol  staff_pick  backers_count  usd_pledged  ...  \\\n",
       "180                0       False             74      5087.00  ...   \n",
       "181                0       False             72      3007.56  ...   \n",
       "182                0       False             73      4410.00  ...   \n",
       "183                0       False             34      2041.00  ...   \n",
       "184                0       False             32      2524.00  ...   \n",
       "\n",
       "    created_at_yr created_at_hr  launched_at_month  launched_at_day  \\\n",
       "180          2015            20                  3                3   \n",
       "181          2013            21                  5                1   \n",
       "182          2012            16                  6                6   \n",
       "183          2014             7                  2               28   \n",
       "184          2015             8                  6               12   \n",
       "\n",
       "     launched_at_yr  launched_at_hr  create_to_launch  launch_to_deadline  \\\n",
       "180            2015               7                33                  45   \n",
       "181            2013               9                 8                  30   \n",
       "182            2012              17                 4                  10   \n",
       "183            2014              11                 0                  30   \n",
       "184            2015              13                22                  21   \n",
       "\n",
       "     launch_to_state_change  percent_of_goal  \n",
       "180                    45.0          1.01740  \n",
       "181                    30.0          1.00252  \n",
       "182                    10.0          1.47000  \n",
       "183                    30.0          1.02050  \n",
       "184                    21.0          1.00960  \n",
       "\n",
       "[5 rows x 41 columns]"
      ],
      "text/html": [
       "<div>\n",
       "<style scoped>\n",
       "    .dataframe tbody tr th:only-of-type {\n",
       "        vertical-align: middle;\n",
       "    }\n",
       "\n",
       "    .dataframe tbody tr th {\n",
       "        vertical-align: top;\n",
       "    }\n",
       "\n",
       "    .dataframe thead th {\n",
       "        text-align: right;\n",
       "    }\n",
       "</style>\n",
       "<table border=\"1\" class=\"dataframe\">\n",
       "  <thead>\n",
       "    <tr style=\"text-align: right;\">\n",
       "      <th></th>\n",
       "      <th>goal</th>\n",
       "      <th>pledged</th>\n",
       "      <th>state</th>\n",
       "      <th>disable_communication</th>\n",
       "      <th>country</th>\n",
       "      <th>currency</th>\n",
       "      <th>currency_symbol</th>\n",
       "      <th>staff_pick</th>\n",
       "      <th>backers_count</th>\n",
       "      <th>usd_pledged</th>\n",
       "      <th>...</th>\n",
       "      <th>created_at_yr</th>\n",
       "      <th>created_at_hr</th>\n",
       "      <th>launched_at_month</th>\n",
       "      <th>launched_at_day</th>\n",
       "      <th>launched_at_yr</th>\n",
       "      <th>launched_at_hr</th>\n",
       "      <th>create_to_launch</th>\n",
       "      <th>launch_to_deadline</th>\n",
       "      <th>launch_to_state_change</th>\n",
       "      <th>percent_of_goal</th>\n",
       "    </tr>\n",
       "  </thead>\n",
       "  <tbody>\n",
       "    <tr>\n",
       "      <th>180</th>\n",
       "      <td>5000.0</td>\n",
       "      <td>5087.00</td>\n",
       "      <td>3</td>\n",
       "      <td>False</td>\n",
       "      <td>20</td>\n",
       "      <td>12</td>\n",
       "      <td>0</td>\n",
       "      <td>False</td>\n",
       "      <td>74</td>\n",
       "      <td>5087.00</td>\n",
       "      <td>...</td>\n",
       "      <td>2015</td>\n",
       "      <td>20</td>\n",
       "      <td>3</td>\n",
       "      <td>3</td>\n",
       "      <td>2015</td>\n",
       "      <td>7</td>\n",
       "      <td>33</td>\n",
       "      <td>45</td>\n",
       "      <td>45.0</td>\n",
       "      <td>1.01740</td>\n",
       "    </tr>\n",
       "    <tr>\n",
       "      <th>181</th>\n",
       "      <td>3000.0</td>\n",
       "      <td>3007.56</td>\n",
       "      <td>3</td>\n",
       "      <td>False</td>\n",
       "      <td>20</td>\n",
       "      <td>12</td>\n",
       "      <td>0</td>\n",
       "      <td>False</td>\n",
       "      <td>72</td>\n",
       "      <td>3007.56</td>\n",
       "      <td>...</td>\n",
       "      <td>2013</td>\n",
       "      <td>21</td>\n",
       "      <td>5</td>\n",
       "      <td>1</td>\n",
       "      <td>2013</td>\n",
       "      <td>9</td>\n",
       "      <td>8</td>\n",
       "      <td>30</td>\n",
       "      <td>30.0</td>\n",
       "      <td>1.00252</td>\n",
       "    </tr>\n",
       "    <tr>\n",
       "      <th>182</th>\n",
       "      <td>3000.0</td>\n",
       "      <td>4410.00</td>\n",
       "      <td>3</td>\n",
       "      <td>False</td>\n",
       "      <td>20</td>\n",
       "      <td>12</td>\n",
       "      <td>0</td>\n",
       "      <td>False</td>\n",
       "      <td>73</td>\n",
       "      <td>4410.00</td>\n",
       "      <td>...</td>\n",
       "      <td>2012</td>\n",
       "      <td>16</td>\n",
       "      <td>6</td>\n",
       "      <td>6</td>\n",
       "      <td>2012</td>\n",
       "      <td>17</td>\n",
       "      <td>4</td>\n",
       "      <td>10</td>\n",
       "      <td>10.0</td>\n",
       "      <td>1.47000</td>\n",
       "    </tr>\n",
       "    <tr>\n",
       "      <th>183</th>\n",
       "      <td>2000.0</td>\n",
       "      <td>2041.00</td>\n",
       "      <td>3</td>\n",
       "      <td>False</td>\n",
       "      <td>20</td>\n",
       "      <td>12</td>\n",
       "      <td>0</td>\n",
       "      <td>False</td>\n",
       "      <td>34</td>\n",
       "      <td>2041.00</td>\n",
       "      <td>...</td>\n",
       "      <td>2014</td>\n",
       "      <td>7</td>\n",
       "      <td>2</td>\n",
       "      <td>28</td>\n",
       "      <td>2014</td>\n",
       "      <td>11</td>\n",
       "      <td>0</td>\n",
       "      <td>30</td>\n",
       "      <td>30.0</td>\n",
       "      <td>1.02050</td>\n",
       "    </tr>\n",
       "    <tr>\n",
       "      <th>184</th>\n",
       "      <td>2500.0</td>\n",
       "      <td>2524.00</td>\n",
       "      <td>3</td>\n",
       "      <td>False</td>\n",
       "      <td>20</td>\n",
       "      <td>12</td>\n",
       "      <td>0</td>\n",
       "      <td>False</td>\n",
       "      <td>32</td>\n",
       "      <td>2524.00</td>\n",
       "      <td>...</td>\n",
       "      <td>2015</td>\n",
       "      <td>8</td>\n",
       "      <td>6</td>\n",
       "      <td>12</td>\n",
       "      <td>2015</td>\n",
       "      <td>13</td>\n",
       "      <td>22</td>\n",
       "      <td>21</td>\n",
       "      <td>21.0</td>\n",
       "      <td>1.00960</td>\n",
       "    </tr>\n",
       "  </tbody>\n",
       "</table>\n",
       "<p>5 rows × 41 columns</p>\n",
       "</div>"
      ]
     },
     "execution_count": 141,
     "metadata": {},
     "output_type": "execute_result"
    }
   ],
   "execution_count": 141
  },
  {
   "cell_type": "code",
   "id": "b7226189",
   "metadata": {
    "ExecuteTime": {
     "end_time": "2025-04-28T23:54:46.931779Z",
     "start_time": "2025-04-28T23:54:46.923249Z"
    }
   },
   "source": [
    "num_success_goal = achieved_goal[achieved_goal['state'] == 3]['state'].count()\n",
    "total_reached_goal = achieved_goal.shape[0]\n",
    "failure_rate_when_goal_reached = (total_reached_goal-num_success_goal) / total_reached_goal\n",
    "num_success_total = df[df['state'] == 3]['state'].count()\n",
    "num_success_no_goal = num_success_total-num_success_goal\n",
    "percent_success = num_success_total/df.shape[0]\n",
    "\n",
    "print(f\"Total success rate {percent_success}\")\n",
    "print(f\"Success rate when goal reached {num_success_goal/total_reached_goal}\")\n",
    "print(f\"Failure rate when goal reached: {failure_rate_when_goal_reached}\")\n",
    "print(f\"numbers of success when goal reached: {num_success_goal}\")\n",
    "print(f\"number of failure when goal reached: {total_reached_goal-num_success_goal}\")\n",
    "print(f'Number of goals reached: {total_reached_goal}')\n",
    "print(f\"Percent that reached goal {total_reached_goal/df.shape[0]}\")\n",
    "print(f'Success that didnt reach goal {num_success_no_goal}')\n",
    "print(f\"Success rate when goal isn't reached {num_success_no_goal/(df.shape[0]-achieved_goal.shape[0])}\")\n"
   ],
   "outputs": [
    {
     "name": "stdout",
     "output_type": "stream",
     "text": [
      "Total success rate 0.2916828227995347\n",
      "Success rate when goal reached 0.9717422896818989\n",
      "Failure rate when goal reached: 0.028257710318101082\n",
      "numbers of success when goal reached: 6018\n",
      "number of failure when goal reached: 175\n",
      "Number of goals reached: 6193\n",
      "Percent that reached goal 0.30016479255525397\n",
      "Success that didnt reach goal 0\n",
      "Success rate when goal isn't reached 0.0\n"
     ]
    }
   ],
   "execution_count": 142
  },
  {
   "metadata": {
    "ExecuteTime": {
     "end_time": "2025-04-29T05:42:06.095903Z",
     "start_time": "2025-04-29T05:42:06.089538Z"
    }
   },
   "cell_type": "code",
   "source": [
    "X = df.drop(columns=['state','creator','location','launch_to_state_change', 'percent_of_goal'], axis=1)\n",
    "Y = df['state']"
   ],
   "id": "c8beb6e1c36a27f",
   "outputs": [],
   "execution_count": 11
  },
  {
   "metadata": {
    "ExecuteTime": {
     "end_time": "2025-04-29T05:42:07.151129Z",
     "start_time": "2025-04-29T05:42:07.121106Z"
    }
   },
   "cell_type": "code",
   "source": [
    "from sklearn.model_selection import train_test_split\n",
    "from sklearn.preprocessing import StandardScaler\n",
    "# scaler = StandardScaler()\n",
    "# X1 = scaler.fit_transform(X)\n",
    "# X_scaled = pd.DataFrame(X1, columns=X.columns)\n",
    "numeric_cols = X.select_dtypes(include=['number']).columns\n",
    "non_numeric_cols = X.select_dtypes(exclude=['number']).columns\n",
    "\n",
    "# Scale only numeric columns\n",
    "scaler = StandardScaler()\n",
    "X_scaled_numeric = pd.DataFrame(scaler.fit_transform(X[numeric_cols]), columns=numeric_cols, index=X.index)\n",
    "\n",
    "# Combine scaled numeric columns with untransformed object columns\n",
    "X_scaled = pd.concat([X_scaled_numeric, X[non_numeric_cols]], axis=1)\n",
    "X_train, X_test, y_train, y_test = train_test_split(X_scaled, Y, test_size=0.2, random_state=42)"
   ],
   "id": "241afc42ec1f213c",
   "outputs": [],
   "execution_count": 12
  },
  {
   "metadata": {
    "ExecuteTime": {
     "end_time": "2025-04-29T05:42:08.840071Z",
     "start_time": "2025-04-29T05:42:08.835159Z"
    }
   },
   "cell_type": "code",
   "source": [
    "# X_train.head()\n",
    "# X_train.drop('launch_to_state_change', axis=1, inplace=True)\n",
    "# X_test.drop('launch_to_state_change', axis=1, inplace=True)\n"
   ],
   "id": "d6de3fdf10b61be3",
   "outputs": [],
   "execution_count": 13
  },
  {
   "cell_type": "code",
   "id": "6a6caf32",
   "metadata": {
    "ExecuteTime": {
     "end_time": "2025-04-29T03:28:30.746156Z",
     "start_time": "2025-04-29T03:28:30.739438Z"
    }
   },
   "source": [
    "from sklearn.svm import SVC, LinearSVC\n",
    "models = []\n",
    "models.append(('Linear SVC', LinearSVC(C=100, loss = 'hinge', random_state=1,\n",
    "max_iter=1000000)))\n",
    "models.append(('Kernel SVC', SVC(kernel = 'rbf', degree = 2, C=100.0,\n",
    "random_state=1, max_iter = 1000000)))\n"
   ],
   "outputs": [],
   "execution_count": 14
  },
  {
   "metadata": {
    "ExecuteTime": {
     "end_time": "2025-04-28T23:54:47.184985Z",
     "start_time": "2025-04-28T23:54:47.180855Z"
    }
   },
   "cell_type": "code",
   "source": "X_train.isnull().sum()\n",
   "id": "c3857d1ee36a5aa1",
   "outputs": [
    {
     "data": {
      "text/plain": [
       "goal                        0\n",
       "pledged                     0\n",
       "country                     0\n",
       "currency                    0\n",
       "currency_symbol             0\n",
       "backers_count               0\n",
       "usd_pledged                 0\n",
       "category                    0\n",
       "source_url                  0\n",
       "name_len_clean              0\n",
       "blurb_len_clean             0\n",
       "deadline_weekday            0\n",
       "state_changed_at_weekday    0\n",
       "created_at_weekday          0\n",
       "launched_at_weekday         0\n",
       "deadline_month              0\n",
       "deadline_day                0\n",
       "deadline_yr                 0\n",
       "deadline_hr                 0\n",
       "state_changed_at_month      0\n",
       "state_changed_at_day        0\n",
       "state_changed_at_yr         0\n",
       "state_changed_at_hr         0\n",
       "created_at_month            0\n",
       "created_at_day              0\n",
       "created_at_yr               0\n",
       "created_at_hr               0\n",
       "launched_at_month           0\n",
       "launched_at_day             0\n",
       "launched_at_yr              0\n",
       "launched_at_hr              0\n",
       "create_to_launch            0\n",
       "launch_to_deadline          0\n",
       "percent_of_goal             0\n",
       "disable_communication       0\n",
       "staff_pick                  0\n",
       "spotlight                   0\n",
       "dtype: int64"
      ]
     },
     "execution_count": 147,
     "metadata": {},
     "output_type": "execute_result"
    }
   ],
   "execution_count": 147
  },
  {
   "metadata": {
    "ExecuteTime": {
     "end_time": "2025-04-29T00:36:58.059421Z",
     "start_time": "2025-04-28T23:54:47.313850Z"
    }
   },
   "cell_type": "code",
   "source": [
    "from sklearn.model_selection import cross_val_score, KFold\n",
    "results = []\n",
    "names = []\n",
    "scoring = 'accuracy'\n",
    "for name, model in models:\n",
    "    kfold = KFold(n_splits=10, random_state=7, shuffle = True)\n",
    "    cv_results = cross_val_score(model, X_train, y_train, cv=kfold, scoring=scoring)\n",
    "    results.append(cv_results)\n",
    "    names.append(name)\n",
    "    msg = \"%s: %f (%f)\" % (name, cv_results.mean(), cv_results.std())\n",
    "    print(msg)"
   ],
   "id": "13fff1f381e33c",
   "outputs": [
    {
     "name": "stderr",
     "output_type": "stream",
     "text": [
      "/Users/jordanfung/Documents/CMPE_188/boston_eda/.env/lib/python3.11/site-packages/sklearn/svm/_classes.py:32: FutureWarning: The default value of `dual` will change from `True` to `'auto'` in 1.5. Set the value of `dual` explicitly to suppress the warning.\n",
      "  warnings.warn(\n",
      "/Users/jordanfung/Documents/CMPE_188/boston_eda/.env/lib/python3.11/site-packages/sklearn/svm/_base.py:1250: ConvergenceWarning: Liblinear failed to converge, increase the number of iterations.\n",
      "  warnings.warn(\n",
      "/Users/jordanfung/Documents/CMPE_188/boston_eda/.env/lib/python3.11/site-packages/sklearn/svm/_classes.py:32: FutureWarning: The default value of `dual` will change from `True` to `'auto'` in 1.5. Set the value of `dual` explicitly to suppress the warning.\n",
      "  warnings.warn(\n",
      "/Users/jordanfung/Documents/CMPE_188/boston_eda/.env/lib/python3.11/site-packages/sklearn/svm/_base.py:1250: ConvergenceWarning: Liblinear failed to converge, increase the number of iterations.\n",
      "  warnings.warn(\n",
      "/Users/jordanfung/Documents/CMPE_188/boston_eda/.env/lib/python3.11/site-packages/sklearn/svm/_classes.py:32: FutureWarning: The default value of `dual` will change from `True` to `'auto'` in 1.5. Set the value of `dual` explicitly to suppress the warning.\n",
      "  warnings.warn(\n",
      "/Users/jordanfung/Documents/CMPE_188/boston_eda/.env/lib/python3.11/site-packages/sklearn/svm/_base.py:1250: ConvergenceWarning: Liblinear failed to converge, increase the number of iterations.\n",
      "  warnings.warn(\n",
      "/Users/jordanfung/Documents/CMPE_188/boston_eda/.env/lib/python3.11/site-packages/sklearn/svm/_classes.py:32: FutureWarning: The default value of `dual` will change from `True` to `'auto'` in 1.5. Set the value of `dual` explicitly to suppress the warning.\n",
      "  warnings.warn(\n",
      "/Users/jordanfung/Documents/CMPE_188/boston_eda/.env/lib/python3.11/site-packages/sklearn/svm/_base.py:1250: ConvergenceWarning: Liblinear failed to converge, increase the number of iterations.\n",
      "  warnings.warn(\n",
      "/Users/jordanfung/Documents/CMPE_188/boston_eda/.env/lib/python3.11/site-packages/sklearn/svm/_classes.py:32: FutureWarning: The default value of `dual` will change from `True` to `'auto'` in 1.5. Set the value of `dual` explicitly to suppress the warning.\n",
      "  warnings.warn(\n",
      "/Users/jordanfung/Documents/CMPE_188/boston_eda/.env/lib/python3.11/site-packages/sklearn/svm/_base.py:1250: ConvergenceWarning: Liblinear failed to converge, increase the number of iterations.\n",
      "  warnings.warn(\n",
      "/Users/jordanfung/Documents/CMPE_188/boston_eda/.env/lib/python3.11/site-packages/sklearn/svm/_classes.py:32: FutureWarning: The default value of `dual` will change from `True` to `'auto'` in 1.5. Set the value of `dual` explicitly to suppress the warning.\n",
      "  warnings.warn(\n",
      "/Users/jordanfung/Documents/CMPE_188/boston_eda/.env/lib/python3.11/site-packages/sklearn/svm/_base.py:1250: ConvergenceWarning: Liblinear failed to converge, increase the number of iterations.\n",
      "  warnings.warn(\n",
      "/Users/jordanfung/Documents/CMPE_188/boston_eda/.env/lib/python3.11/site-packages/sklearn/svm/_classes.py:32: FutureWarning: The default value of `dual` will change from `True` to `'auto'` in 1.5. Set the value of `dual` explicitly to suppress the warning.\n",
      "  warnings.warn(\n",
      "/Users/jordanfung/Documents/CMPE_188/boston_eda/.env/lib/python3.11/site-packages/sklearn/svm/_base.py:1250: ConvergenceWarning: Liblinear failed to converge, increase the number of iterations.\n",
      "  warnings.warn(\n",
      "/Users/jordanfung/Documents/CMPE_188/boston_eda/.env/lib/python3.11/site-packages/sklearn/svm/_classes.py:32: FutureWarning: The default value of `dual` will change from `True` to `'auto'` in 1.5. Set the value of `dual` explicitly to suppress the warning.\n",
      "  warnings.warn(\n",
      "/Users/jordanfung/Documents/CMPE_188/boston_eda/.env/lib/python3.11/site-packages/sklearn/svm/_base.py:1250: ConvergenceWarning: Liblinear failed to converge, increase the number of iterations.\n",
      "  warnings.warn(\n",
      "/Users/jordanfung/Documents/CMPE_188/boston_eda/.env/lib/python3.11/site-packages/sklearn/svm/_classes.py:32: FutureWarning: The default value of `dual` will change from `True` to `'auto'` in 1.5. Set the value of `dual` explicitly to suppress the warning.\n",
      "  warnings.warn(\n",
      "/Users/jordanfung/Documents/CMPE_188/boston_eda/.env/lib/python3.11/site-packages/sklearn/svm/_base.py:1250: ConvergenceWarning: Liblinear failed to converge, increase the number of iterations.\n",
      "  warnings.warn(\n",
      "/Users/jordanfung/Documents/CMPE_188/boston_eda/.env/lib/python3.11/site-packages/sklearn/svm/_classes.py:32: FutureWarning: The default value of `dual` will change from `True` to `'auto'` in 1.5. Set the value of `dual` explicitly to suppress the warning.\n",
      "  warnings.warn(\n",
      "/Users/jordanfung/Documents/CMPE_188/boston_eda/.env/lib/python3.11/site-packages/sklearn/svm/_base.py:1250: ConvergenceWarning: Liblinear failed to converge, increase the number of iterations.\n",
      "  warnings.warn(\n"
     ]
    },
    {
     "name": "stdout",
     "output_type": "stream",
     "text": [
      "Linear SVC: 0.957407 (0.004322)\n",
      "Kernel SVC: 0.968192 (0.004590)\n"
     ]
    }
   ],
   "execution_count": 148
  },
  {
   "metadata": {
    "ExecuteTime": {
     "end_time": "2025-04-29T05:42:42.575506Z",
     "start_time": "2025-04-29T05:42:34.984947Z"
    }
   },
   "cell_type": "code",
   "source": [
    "from sklearn.metrics import accuracy_score, confusion_matrix\n",
    "from sklearn.svm import SVC\n",
    "kernel_svc = SVC(kernel = 'rbf', degree = 2, C=100.0, random_state=1, max_iter = 1000000)\n",
    "kernel_svc.fit(X_train, y_train)\n",
    "y_pred = kernel_svc.predict(X_test)\n",
    "score = accuracy_score(y_test, y_pred)\n",
    "print(confusion_matrix(y_test, y_pred))"
   ],
   "id": "2e38af667fb0c529",
   "outputs": [
    {
     "name": "stdout",
     "output_type": "stream",
     "text": [
      "[[ 406   66    4    1    0]\n",
      " [  16 2274    5    1    0]\n",
      " [   2    1   87    0    0]\n",
      " [   0    0    0 1220    0]\n",
      " [   1    1    1    0   41]]\n"
     ]
    }
   ],
   "execution_count": 14
  },
  {
   "metadata": {
    "jupyter": {
     "is_executing": true
    },
    "ExecuteTime": {
     "start_time": "2025-04-29T05:43:22.902222Z"
    }
   },
   "cell_type": "code",
   "source": [
    "from sklearn.model_selection import GridSearchCV\n",
    "param_grid = {'C': [0.1, 1, 10, 100, 1000],\n",
    "              'gamma': [1, 0.1, 0.01, 0.001, 0.0001],\n",
    "              'kernel': ['rbf'],\n",
    "              'max_iter': [10000, 100000,1000000, 2000000, 3000000, 5000000, 10000000]}\n",
    "grid = GridSearchCV(SVC(), param_grid, refit=True, verbose=3)\n",
    "grid.fit(X_train, y_train)\n",
    "print(grid.best_params_)\n",
    "\n",
    "print(grid.best_estimator_)"
   ],
   "id": "867860b5e58f3a10",
   "outputs": [
    {
     "name": "stdout",
     "output_type": "stream",
     "text": [
      "Fitting 5 folds for each of 25 candidates, totalling 125 fits\n",
      "[CV 1/5] END ........C=0.1, gamma=1, kernel=rbf;, score=0.553 total time=  23.8s\n",
      "[CV 2/5] END ........C=0.1, gamma=1, kernel=rbf;, score=0.553 total time=  24.3s\n",
      "[CV 3/5] END ........C=0.1, gamma=1, kernel=rbf;, score=0.553 total time=  23.7s\n",
      "[CV 4/5] END ........C=0.1, gamma=1, kernel=rbf;, score=0.553 total time=  28.3s\n",
      "[CV 5/5] END ........C=0.1, gamma=1, kernel=rbf;, score=0.553 total time=  27.5s\n",
      "[CV 1/5] END ......C=0.1, gamma=0.1, kernel=rbf;, score=0.688 total time=  13.0s\n",
      "[CV 2/5] END ......C=0.1, gamma=0.1, kernel=rbf;, score=0.682 total time=  11.8s\n",
      "[CV 3/5] END ......C=0.1, gamma=0.1, kernel=rbf;, score=0.691 total time=  11.7s\n",
      "[CV 4/5] END ......C=0.1, gamma=0.1, kernel=rbf;, score=0.688 total time=  11.9s\n",
      "[CV 5/5] END ......C=0.1, gamma=0.1, kernel=rbf;, score=0.678 total time=  13.5s\n",
      "[CV 1/5] END .....C=0.1, gamma=0.01, kernel=rbf;, score=0.849 total time=   8.7s\n",
      "[CV 2/5] END .....C=0.1, gamma=0.01, kernel=rbf;, score=0.849 total time=   8.4s\n",
      "[CV 3/5] END .....C=0.1, gamma=0.01, kernel=rbf;, score=0.849 total time=   8.4s\n",
      "[CV 4/5] END .....C=0.1, gamma=0.01, kernel=rbf;, score=0.846 total time=   8.5s\n",
      "[CV 5/5] END .....C=0.1, gamma=0.01, kernel=rbf;, score=0.845 total time=   7.8s\n"
     ]
    }
   ],
   "execution_count": null
  },
  {
   "metadata": {
    "ExecuteTime": {
     "end_time": "2025-04-29T03:38:54.314029Z",
     "start_time": "2025-04-29T03:35:53.182981Z"
    }
   },
   "cell_type": "code",
   "source": [
    "from sklearn.tree import DecisionTreeClassifier\n",
    "from sklearn.ensemble import AdaBoostClassifier\n",
    "from sklearn.model_selection import cross_val_score, KFold\n",
    "for i in range(1,10):\n",
    "    ada_clf = AdaBoostClassifier(\n",
    "    DecisionTreeClassifier(max_depth=4), n_estimators=200,\n",
    "    algorithm=\"SAMME.R\", learning_rate=(i/10), random_state=42)\n",
    "    score = cross_val_score(ada_clf, X_train, y_train, cv=5, n_jobs=-1)\n",
    "    print(f'{score.mean()} achienved for AdaBoost with learning rate of {i/10}')"
   ],
   "id": "485740dc7e821580",
   "outputs": [
    {
     "name": "stdout",
     "output_type": "stream",
     "text": [
      "0.9398364132081187 achienved for AdaBoost with learning rate of 0.1\n",
      "0.8704634959103302 achienved for AdaBoost with learning rate of 0.2\n",
      "0.9082702211451075 achienved for AdaBoost with learning rate of 0.3\n",
      "0.922932444713723 achienved for AdaBoost with learning rate of 0.4\n",
      "0.9369887912753712 achienved for AdaBoost with learning rate of 0.5\n",
      "0.9517116025446836 achienved for AdaBoost with learning rate of 0.6\n",
      "0.9418963950318087 achienved for AdaBoost with learning rate of 0.7\n",
      "0.9291729778854891 achienved for AdaBoost with learning rate of 0.8\n",
      "0.9219630415025749 achienved for AdaBoost with learning rate of 0.9\n"
     ]
    }
   ],
   "execution_count": 26
  },
  {
   "metadata": {
    "ExecuteTime": {
     "end_time": "2025-04-29T03:39:47.318362Z",
     "start_time": "2025-04-29T03:39:30.086239Z"
    }
   },
   "cell_type": "code",
   "source": [
    "ada = AdaBoostClassifier(DecisionTreeClassifier(max_depth=4), n_estimators=200,algorithm=\"SAMME.R\", learning_rate=.6, random_state=42)\n",
    "ada.fit(X_train, y_train)\n",
    "y_pred = ada.predict(X_test)\n",
    "score = accuracy_score(y_test, y_pred)\n",
    "print(score)"
   ],
   "id": "e968808be12125d3",
   "outputs": [],
   "execution_count": 27
  },
  {
   "metadata": {
    "ExecuteTime": {
     "end_time": "2025-04-29T03:43:35.874538Z",
     "start_time": "2025-04-29T03:42:44.043766Z"
    }
   },
   "cell_type": "code",
   "source": [
    "from sklearn.ensemble import RandomForestClassifier\n",
    "for i in range(2, 11):\n",
    "    rnd_forest = RandomForestClassifier(max_leaf_nodes=20, n_jobs=-1, random_state=42, max_depth=i, n_estimators=500)\n",
    "    score = cross_val_score(rnd_forest, X_train, y_train,cv=5, n_jobs=-1)\n",
    "    print(f\"Random forest with {i} depth {score.mean()}\")\n"
   ],
   "id": "647f95268c461c68",
   "outputs": [
    {
     "name": "stdout",
     "output_type": "stream",
     "text": [
      "Random forest with 2 depth 0.8394425931535897\n",
      "Random forest with 3 depth 0.8580430172674947\n",
      "Random forest with 4 depth 0.8656770675552863\n",
      "Random forest with 5 depth 0.8671917600727053\n",
      "Random forest with 6 depth 0.8734322932444714\n",
      "Random forest with 7 depth 0.8750681611632839\n",
      "Random forest with 8 depth 0.8754316873674645\n",
      "Random forest with 9 depth 0.8752499242653741\n",
      "Random forest with 10 depth 0.8752499242653741\n"
     ]
    }
   ],
   "execution_count": 32
  },
  {
   "metadata": {
    "ExecuteTime": {
     "end_time": "2025-04-29T04:40:33.406833Z",
     "start_time": "2025-04-29T04:34:51.307248Z"
    }
   },
   "cell_type": "code",
   "source": [
    "from sklearn.ensemble import BaggingClassifier\n",
    "from sklearn.tree import DecisionTreeClassifier\n",
    "from sklearn.model_selection import cross_val_score\n",
    "results = []\n",
    "for i in range(1500,3001, 750):\n",
    "    bag_clf = BaggingClassifier(DecisionTreeClassifier(random_state=42, max_depth=6), n_estimators=i,  bootstrap=True, random_state=42, n_jobs=-1)\n",
    "    score = cross_val_score(bag_clf, X_train, y_train, cv=5, n_jobs=-1)\n",
    "    results.append((score.mean(), i))\n",
    "for score,  estimator in results:\n",
    "    print(f'{score:.4f} estimator: {estimator}')"
   ],
   "id": "314bfa4f75eb66b4",
   "outputs": [
    {
     "name": "stdout",
     "output_type": "stream",
     "text": [
      "0.8825 estimator: 1500\n",
      "0.8825 estimator: 2250\n",
      "0.8825 estimator: 3000\n"
     ]
    }
   ],
   "execution_count": 21
  },
  {
   "metadata": {
    "jupyter": {
     "is_executing": true
    },
    "ExecuteTime": {
     "start_time": "2025-04-29T05:19:02.104566Z"
    }
   },
   "cell_type": "code",
   "source": [
    "from sklearn.linear_model import LogisticRegression, Lasso, Ridge, SGDClassifier\n",
    "from sklearn.feature_selection import RFE\n",
    "lr_scores = []\n",
    "for i in range(X_train.shape[1]-1, 0, -1):\n",
    "    logistic_regression = RFE(LogisticRegression(random_state=42, max_iter=500), n_features_to_select=i)\n",
    "    logistic_regression.fit(X_train, y_train)\n",
    "    score = cross_val_score(logistic_regression, X_train, y_train, cv=10, n_jobs=-1)\n",
    "    lr_scores.append((i, score.mean()))\n",
    "\n",
    "for features, score in lr_scores:\n",
    "    print(f'num features: {features} score: {score:.4f}')\n"
   ],
   "id": "154a34f6e0f0b396",
   "outputs": [
    {
     "name": "stderr",
     "output_type": "stream",
     "text": [
      "/Users/jordanfung/Documents/CMPE_188/boston_eda/.env/lib/python3.11/site-packages/sklearn/linear_model/_logistic.py:460: ConvergenceWarning: lbfgs failed to converge (status=1):\n",
      "STOP: TOTAL NO. OF ITERATIONS REACHED LIMIT.\n",
      "\n",
      "Increase the number of iterations (max_iter) or scale the data as shown in:\n",
      "    https://scikit-learn.org/stable/modules/preprocessing.html\n",
      "Please also refer to the documentation for alternative solver options:\n",
      "    https://scikit-learn.org/stable/modules/linear_model.html#logistic-regression\n",
      "  n_iter_i = _check_optimize_result(\n",
      "/Users/jordanfung/Documents/CMPE_188/boston_eda/.env/lib/python3.11/site-packages/sklearn/linear_model/_logistic.py:460: ConvergenceWarning: lbfgs failed to converge (status=1):\n",
      "STOP: TOTAL NO. OF ITERATIONS REACHED LIMIT.\n",
      "\n",
      "Increase the number of iterations (max_iter) or scale the data as shown in:\n",
      "    https://scikit-learn.org/stable/modules/preprocessing.html\n",
      "Please also refer to the documentation for alternative solver options:\n",
      "    https://scikit-learn.org/stable/modules/linear_model.html#logistic-regression\n",
      "  n_iter_i = _check_optimize_result(\n",
      "/Users/jordanfung/Documents/CMPE_188/boston_eda/.env/lib/python3.11/site-packages/sklearn/linear_model/_logistic.py:460: ConvergenceWarning: lbfgs failed to converge (status=1):\n",
      "STOP: TOTAL NO. OF ITERATIONS REACHED LIMIT.\n",
      "\n",
      "Increase the number of iterations (max_iter) or scale the data as shown in:\n",
      "    https://scikit-learn.org/stable/modules/preprocessing.html\n",
      "Please also refer to the documentation for alternative solver options:\n",
      "    https://scikit-learn.org/stable/modules/linear_model.html#logistic-regression\n",
      "  n_iter_i = _check_optimize_result(\n",
      "/Users/jordanfung/Documents/CMPE_188/boston_eda/.env/lib/python3.11/site-packages/sklearn/linear_model/_logistic.py:460: ConvergenceWarning: lbfgs failed to converge (status=1):\n",
      "STOP: TOTAL NO. OF ITERATIONS REACHED LIMIT.\n",
      "\n",
      "Increase the number of iterations (max_iter) or scale the data as shown in:\n",
      "    https://scikit-learn.org/stable/modules/preprocessing.html\n",
      "Please also refer to the documentation for alternative solver options:\n",
      "    https://scikit-learn.org/stable/modules/linear_model.html#logistic-regression\n",
      "  n_iter_i = _check_optimize_result(\n",
      "/Users/jordanfung/Documents/CMPE_188/boston_eda/.env/lib/python3.11/site-packages/sklearn/linear_model/_logistic.py:460: ConvergenceWarning: lbfgs failed to converge (status=1):\n",
      "STOP: TOTAL NO. OF ITERATIONS REACHED LIMIT.\n",
      "\n",
      "Increase the number of iterations (max_iter) or scale the data as shown in:\n",
      "    https://scikit-learn.org/stable/modules/preprocessing.html\n",
      "Please also refer to the documentation for alternative solver options:\n",
      "    https://scikit-learn.org/stable/modules/linear_model.html#logistic-regression\n",
      "  n_iter_i = _check_optimize_result(\n",
      "/Users/jordanfung/Documents/CMPE_188/boston_eda/.env/lib/python3.11/site-packages/sklearn/linear_model/_logistic.py:460: ConvergenceWarning: lbfgs failed to converge (status=1):\n",
      "STOP: TOTAL NO. OF ITERATIONS REACHED LIMIT.\n",
      "\n",
      "Increase the number of iterations (max_iter) or scale the data as shown in:\n",
      "    https://scikit-learn.org/stable/modules/preprocessing.html\n",
      "Please also refer to the documentation for alternative solver options:\n",
      "    https://scikit-learn.org/stable/modules/linear_model.html#logistic-regression\n",
      "  n_iter_i = _check_optimize_result(\n",
      "/Users/jordanfung/Documents/CMPE_188/boston_eda/.env/lib/python3.11/site-packages/sklearn/linear_model/_logistic.py:460: ConvergenceWarning: lbfgs failed to converge (status=1):\n",
      "STOP: TOTAL NO. OF ITERATIONS REACHED LIMIT.\n",
      "\n",
      "Increase the number of iterations (max_iter) or scale the data as shown in:\n",
      "    https://scikit-learn.org/stable/modules/preprocessing.html\n",
      "Please also refer to the documentation for alternative solver options:\n",
      "    https://scikit-learn.org/stable/modules/linear_model.html#logistic-regression\n",
      "  n_iter_i = _check_optimize_result(\n",
      "/Users/jordanfung/Documents/CMPE_188/boston_eda/.env/lib/python3.11/site-packages/sklearn/linear_model/_logistic.py:460: ConvergenceWarning: lbfgs failed to converge (status=1):\n",
      "STOP: TOTAL NO. OF ITERATIONS REACHED LIMIT.\n",
      "\n",
      "Increase the number of iterations (max_iter) or scale the data as shown in:\n",
      "    https://scikit-learn.org/stable/modules/preprocessing.html\n",
      "Please also refer to the documentation for alternative solver options:\n",
      "    https://scikit-learn.org/stable/modules/linear_model.html#logistic-regression\n",
      "  n_iter_i = _check_optimize_result(\n",
      "/Users/jordanfung/Documents/CMPE_188/boston_eda/.env/lib/python3.11/site-packages/sklearn/linear_model/_logistic.py:460: ConvergenceWarning: lbfgs failed to converge (status=1):\n",
      "STOP: TOTAL NO. OF ITERATIONS REACHED LIMIT.\n",
      "\n",
      "Increase the number of iterations (max_iter) or scale the data as shown in:\n",
      "    https://scikit-learn.org/stable/modules/preprocessing.html\n",
      "Please also refer to the documentation for alternative solver options:\n",
      "    https://scikit-learn.org/stable/modules/linear_model.html#logistic-regression\n",
      "  n_iter_i = _check_optimize_result(\n",
      "/Users/jordanfung/Documents/CMPE_188/boston_eda/.env/lib/python3.11/site-packages/sklearn/linear_model/_logistic.py:460: ConvergenceWarning: lbfgs failed to converge (status=1):\n",
      "STOP: TOTAL NO. OF ITERATIONS REACHED LIMIT.\n",
      "\n",
      "Increase the number of iterations (max_iter) or scale the data as shown in:\n",
      "    https://scikit-learn.org/stable/modules/preprocessing.html\n",
      "Please also refer to the documentation for alternative solver options:\n",
      "    https://scikit-learn.org/stable/modules/linear_model.html#logistic-regression\n",
      "  n_iter_i = _check_optimize_result(\n",
      "/Users/jordanfung/Documents/CMPE_188/boston_eda/.env/lib/python3.11/site-packages/sklearn/linear_model/_logistic.py:460: ConvergenceWarning: lbfgs failed to converge (status=1):\n",
      "STOP: TOTAL NO. OF ITERATIONS REACHED LIMIT.\n",
      "\n",
      "Increase the number of iterations (max_iter) or scale the data as shown in:\n",
      "    https://scikit-learn.org/stable/modules/preprocessing.html\n",
      "Please also refer to the documentation for alternative solver options:\n",
      "    https://scikit-learn.org/stable/modules/linear_model.html#logistic-regression\n",
      "  n_iter_i = _check_optimize_result(\n",
      "/Users/jordanfung/Documents/CMPE_188/boston_eda/.env/lib/python3.11/site-packages/sklearn/linear_model/_logistic.py:460: ConvergenceWarning: lbfgs failed to converge (status=1):\n",
      "STOP: TOTAL NO. OF ITERATIONS REACHED LIMIT.\n",
      "\n",
      "Increase the number of iterations (max_iter) or scale the data as shown in:\n",
      "    https://scikit-learn.org/stable/modules/preprocessing.html\n",
      "Please also refer to the documentation for alternative solver options:\n",
      "    https://scikit-learn.org/stable/modules/linear_model.html#logistic-regression\n",
      "  n_iter_i = _check_optimize_result(\n"
     ]
    }
   ],
   "execution_count": null
  }
 ],
 "metadata": {
  "kernelspec": {
   "display_name": ".env",
   "language": "python",
   "name": "python3"
  },
  "language_info": {
   "codemirror_mode": {
    "name": "ipython",
    "version": 3
   },
   "file_extension": ".py",
   "mimetype": "text/x-python",
   "name": "python",
   "nbconvert_exporter": "python",
   "pygments_lexer": "ipython3",
   "version": "3.11.1"
  }
 },
 "nbformat": 4,
 "nbformat_minor": 5
}
