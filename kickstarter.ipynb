{
 "cells": [
  {
   "cell_type": "code",
   "id": "cd566fe1",
   "metadata": {
    "ExecuteTime": {
     "end_time": "2025-04-28T23:21:57.305435Z",
     "start_time": "2025-04-28T23:21:56.610107Z"
    }
   },
   "source": "import pandas as pd",
   "outputs": [],
   "execution_count": 3
  },
  {
   "metadata": {
    "ExecuteTime": {
     "end_time": "2025-04-28T23:25:45.836061Z",
     "start_time": "2025-04-28T23:25:45.821841Z"
    }
   },
   "cell_type": "code",
   "source": [
    "all_cols = ['Unnamed: 0', 'id', 'photo', 'name', 'blurb', 'goal', 'pledged',\n",
    "       'state', 'slug', 'disable_communication', 'country', 'currency',\n",
    "       'currency_symbol', 'currency_trailing_code', 'deadline',\n",
    "       'state_changed_at', 'created_at', 'launched_at', 'staff_pick',\n",
    "       'backers_count', 'static_usd_rate', 'usd_pledged', 'creator',\n",
    "       'location', 'category', 'profile', 'spotlight', 'urls', 'source_url',\n",
    "       'friends', 'is_starred', 'is_backing', 'permissions', 'name_len',\n",
    "       'name_len_clean', 'blurb_len', 'blurb_len_clean', 'deadline_weekday',\n",
    "       'state_changed_at_weekday', 'created_at_weekday', 'launched_at_weekday',\n",
    "       'deadline_month', 'deadline_day', 'deadline_yr', 'deadline_hr',\n",
    "       'state_changed_at_month', 'state_changed_at_day', 'state_changed_at_yr',\n",
    "       'state_changed_at_hr', 'created_at_month', 'created_at_day',\n",
    "       'created_at_yr', 'created_at_hr', 'launched_at_month',\n",
    "       'launched_at_day', 'launched_at_yr', 'launched_at_hr',\n",
    "       'create_to_launch', 'launch_to_deadline', 'launch_to_state_change']\n",
    "cols_to_drop = ['Unnamed: 0','urls','name','blurb','id','slug',\n",
    "                'photo','currency_trailing_code','friends','is_starred','is_backing','permissions','name_len','blurb_len','profile','static_usd_rate']\n",
    "datetime_columns = ['state_changed_at','created_at', 'launched_at','deadline']\n",
    "\n",
    "year_cols = ['created_at_yr', 'deadline_yr','state_changed_at_yr', 'launched_at_yr']\n",
    "\n",
    "month_day_hr_cols = ['state_changed_at_month','created_at_day','created_at_month', 'created_at_hr', 'launched_at_month','launched_at_day','launched_at_hr',\n",
    "        'deadline_month','deadline_day','deadline_hr', 'state_changed_at_day', 'state_changed_at_hr', ]\n",
    "cat = ['deadline_weekday', 'created_at_weekday', 'state_changed_at_weekday', 'currency_symbol'\n",
    "       'country', 'currency','source_url',\n",
    "       'state','launched_at_weekday'\n",
    "       ]\n",
    "\n",
    "dtype_dict = {\n",
    "    **{col: 'int16' for col in year_cols},\n",
    "    **{col: 'int8' for col in month_day_hr_cols},\n",
    "    **{col: 'category' for col in cat},\n",
    "    'backers_count':'int32'\n",
    "}\n",
    "\n",
    "for i in datetime_columns:\n",
    "    cols_to_drop.append(i)\n",
    "cols_to_keep = [col for col in all_cols if col not in cols_to_drop]"
   ],
   "id": "a3b81f85434fc424",
   "outputs": [],
   "execution_count": 16
  },
  {
   "cell_type": "code",
   "id": "76ec5d60",
   "metadata": {
    "ExecuteTime": {
     "end_time": "2025-04-28T23:25:50.098958Z",
     "start_time": "2025-04-28T23:25:49.221142Z"
    }
   },
   "source": [
    "df = pd.read_csv(\"kickstarter_data_with_features.csv\", usecols=cols_to_keep, dtype=dtype_dict)\n",
    "\n",
    "df.columns"
   ],
   "outputs": [
    {
     "data": {
      "text/plain": [
       "Index(['goal', 'pledged', 'state', 'disable_communication', 'country',\n",
       "       'currency', 'currency_symbol', 'staff_pick', 'backers_count',\n",
       "       'usd_pledged', 'creator', 'location', 'category', 'spotlight',\n",
       "       'source_url', 'name_len_clean', 'blurb_len_clean', 'deadline_weekday',\n",
       "       'state_changed_at_weekday', 'created_at_weekday', 'launched_at_weekday',\n",
       "       'deadline_month', 'deadline_day', 'deadline_yr', 'deadline_hr',\n",
       "       'state_changed_at_month', 'state_changed_at_day', 'state_changed_at_yr',\n",
       "       'state_changed_at_hr', 'created_at_month', 'created_at_day',\n",
       "       'created_at_yr', 'created_at_hr', 'launched_at_month',\n",
       "       'launched_at_day', 'launched_at_yr', 'launched_at_hr',\n",
       "       'create_to_launch', 'launch_to_deadline', 'launch_to_state_change'],\n",
       "      dtype='object')"
      ]
     },
     "execution_count": 17,
     "metadata": {},
     "output_type": "execute_result"
    }
   ],
   "execution_count": 17
  },
  {
   "metadata": {
    "ExecuteTime": {
     "end_time": "2025-04-28T23:25:51.902699Z",
     "start_time": "2025-04-28T23:25:51.894578Z"
    }
   },
   "cell_type": "code",
   "source": [
    "df['currency_symbol'] = df['currency_symbol'].astype('category').cat.codes\n",
    "df['country'] = df['country'].astype('category').cat.codes\n",
    "df['currency'] = df['currency'].astype('category').cat.codes\n",
    "df['state'] = df['state'].astype('category').cat.codes\n",
    "df['source_url'] = df['source_url'].astype('category').cat.codes #this probably has high correlation with category"
   ],
   "id": "3bb260d8b06513ca",
   "outputs": [],
   "execution_count": 18
  },
  {
   "metadata": {
    "ExecuteTime": {
     "end_time": "2025-04-28T23:25:53.491408Z",
     "start_time": "2025-04-28T23:25:53.444230Z"
    }
   },
   "cell_type": "code",
   "source": [
    "df['launch_to_deadline'] = df['launch_to_deadline'].astype(str).str.extract(r'(\\d+ days)')\n",
    "df['create_to_launch'] = df['create_to_launch'].astype(str).str.extract(r'(\\d+ days)')\n",
    "df['launch_to_state_change'] = df['launch_to_state_change'].astype(str).str.extract(r'(\\d+ days)')"
   ],
   "id": "40425d8a9c56f11",
   "outputs": [],
   "execution_count": 19
  },
  {
   "metadata": {
    "ExecuteTime": {
     "end_time": "2025-04-28T23:25:54.766831Z",
     "start_time": "2025-04-28T23:25:54.758077Z"
    }
   },
   "cell_type": "code",
   "source": [
    "df['name_len_clean'] = df['name_len_clean'].fillna(df['name_len_clean'].median())\n",
    "df['name_len_clean'] = df['name_len_clean'].astype('int16')\n",
    "df['blurb_len_clean'] = df['blurb_len_clean'].fillna(df['blurb_len_clean'].median())\n",
    "df['blurb_len_clean'] = df['blurb_len_clean'].astype('int16')\n",
    "\n"
   ],
   "id": "60fcb9ccbe254e6",
   "outputs": [],
   "execution_count": 20
  },
  {
   "metadata": {
    "ExecuteTime": {
     "end_time": "2025-04-28T23:25:55.888883Z",
     "start_time": "2025-04-28T23:25:55.783184Z"
    }
   },
   "cell_type": "code",
   "source": [
    "df['launch_to_deadline'] = df['launch_to_deadline'].astype(str).str.extract(r'(\\d+)')\n",
    "df['create_to_launch'] = df['create_to_launch'].astype(str).str.extract(r'(\\d+)')\n",
    "df['launch_to_state_change'] = df['launch_to_state_change'].astype(str).str.extract(r'(\\d+)')"
   ],
   "id": "b1cf9c37a1661ad2",
   "outputs": [],
   "execution_count": 21
  },
  {
   "metadata": {
    "ExecuteTime": {
     "end_time": "2025-04-28T23:25:57.327596Z",
     "start_time": "2025-04-28T23:25:57.287008Z"
    }
   },
   "cell_type": "code",
   "source": [
    "df['launch_to_deadline'] = pd.to_numeric(df['launch_to_deadline'])\n",
    "df['create_to_launch'] = pd.to_numeric(df['create_to_launch'])\n",
    "df['launch_to_state_change'] = pd.to_numeric(df['launch_to_state_change'])"
   ],
   "id": "f8c4744ca393ac05",
   "outputs": [],
   "execution_count": 22
  },
  {
   "metadata": {
    "ExecuteTime": {
     "end_time": "2025-04-28T23:32:39.529807Z",
     "start_time": "2025-04-28T23:32:39.495327Z"
    }
   },
   "cell_type": "code",
   "source": [
    "df['category'] = df['category'].astype('category').cat.codes\n",
    "\n",
    "df['deadline_weekday'] = df['deadline_weekday'].cat.codes\n",
    "df['state_changed_at_weekday'] = df['state_changed_at_weekday'].cat.codes\n",
    "df['created_at_weekday'] = df['created_at_weekday'].cat.codes\n",
    "df['launched_at_weekday'] = df['launched_at_weekday'].cat.codes\n"
   ],
   "id": "3d4c12adcaba6dce",
   "outputs": [],
   "execution_count": 38
  },
  {
   "cell_type": "code",
   "id": "8bb5844e",
   "metadata": {
    "ExecuteTime": {
     "end_time": "2025-04-28T23:32:41.409819Z",
     "start_time": "2025-04-28T23:32:41.406580Z"
    }
   },
   "source": "print(df.dtypes)",
   "outputs": [
    {
     "name": "stdout",
     "output_type": "stream",
     "text": [
      "goal                        float64\n",
      "pledged                     float64\n",
      "state                          int8\n",
      "disable_communication          bool\n",
      "country                        int8\n",
      "currency                       int8\n",
      "currency_symbol                int8\n",
      "staff_pick                     bool\n",
      "backers_count                 int32\n",
      "usd_pledged                 float64\n",
      "creator                      object\n",
      "location                     object\n",
      "category                       int8\n",
      "spotlight                      bool\n",
      "source_url                     int8\n",
      "name_len_clean                int16\n",
      "blurb_len_clean               int16\n",
      "deadline_weekday               int8\n",
      "state_changed_at_weekday       int8\n",
      "created_at_weekday             int8\n",
      "launched_at_weekday            int8\n",
      "deadline_month                 int8\n",
      "deadline_day                   int8\n",
      "deadline_yr                   int16\n",
      "deadline_hr                    int8\n",
      "state_changed_at_month         int8\n",
      "state_changed_at_day           int8\n",
      "state_changed_at_yr           int16\n",
      "state_changed_at_hr            int8\n",
      "created_at_month               int8\n",
      "created_at_day                 int8\n",
      "created_at_yr                 int16\n",
      "created_at_hr                  int8\n",
      "launched_at_month              int8\n",
      "launched_at_day                int8\n",
      "launched_at_yr                int16\n",
      "launched_at_hr                 int8\n",
      "create_to_launch              int64\n",
      "launch_to_deadline            int64\n",
      "launch_to_state_change      float64\n",
      "dtype: object\n"
     ]
    }
   ],
   "execution_count": 39
  },
  {
   "metadata": {
    "ExecuteTime": {
     "end_time": "2025-04-28T23:26:54.262752Z",
     "start_time": "2025-04-28T23:26:54.171776Z"
    }
   },
   "cell_type": "code",
   "source": "print(df.nunique())",
   "id": "581a92d3",
   "outputs": [
    {
     "name": "stdout",
     "output_type": "stream",
     "text": [
      "goal                         1204\n",
      "pledged                      8722\n",
      "state                           5\n",
      "disable_communication           2\n",
      "country                        21\n",
      "currency                       13\n",
      "currency_symbol                 5\n",
      "staff_pick                      2\n",
      "backers_count                1505\n",
      "usd_pledged                 12235\n",
      "creator                     20522\n",
      "location                     5178\n",
      "category                       25\n",
      "spotlight                       2\n",
      "source_url                     33\n",
      "name_len_clean                 14\n",
      "blurb_len_clean                29\n",
      "deadline_weekday                7\n",
      "state_changed_at_weekday        7\n",
      "created_at_weekday              7\n",
      "launched_at_weekday             7\n",
      "deadline_month                 12\n",
      "deadline_day                   31\n",
      "deadline_yr                     9\n",
      "deadline_hr                    24\n",
      "state_changed_at_month         12\n",
      "state_changed_at_day           31\n",
      "state_changed_at_yr             9\n",
      "state_changed_at_hr            24\n",
      "created_at_month               12\n",
      "created_at_day                 31\n",
      "created_at_yr                   9\n",
      "created_at_hr                  24\n",
      "launched_at_month              12\n",
      "launched_at_day                31\n",
      "launched_at_yr                  9\n",
      "launched_at_hr                 24\n",
      "create_to_launch              686\n",
      "launch_to_deadline             85\n",
      "launch_to_state_change         74\n",
      "dtype: int64\n"
     ]
    }
   ],
   "execution_count": 26
  },
  {
   "metadata": {
    "ExecuteTime": {
     "end_time": "2025-04-28T18:22:40.978920Z",
     "start_time": "2025-04-28T18:22:40.965655Z"
    }
   },
   "cell_type": "code",
   "source": [
    "df['percent_of_goal'] = df['pledged']/df['goal']\n",
    "df['percent_of_goal'].describe()"
   ],
   "id": "364661b5",
   "outputs": [
    {
     "data": {
      "text/plain": [
       "count    20632.000000\n",
       "mean         3.232088\n",
       "std        177.318223\n",
       "min          0.000000\n",
       "25%          0.001500\n",
       "50%          0.065439\n",
       "75%          1.030000\n",
       "max      22603.000000\n",
       "Name: percent_of_goal, dtype: float64"
      ]
     },
     "execution_count": 118,
     "metadata": {},
     "output_type": "execute_result"
    }
   ],
   "execution_count": 118
  },
  {
   "metadata": {
    "ExecuteTime": {
     "end_time": "2025-04-28T18:23:38.310512Z",
     "start_time": "2025-04-28T18:23:38.266220Z"
    }
   },
   "cell_type": "code",
   "source": [
    "achieved_goal = df[df['percent_of_goal'] >=1]\n",
    "achieved_goal.head()"
   ],
   "id": "41a83c81",
   "outputs": [
    {
     "data": {
      "text/plain": [
       "       goal  pledged  state  disable_communication  country  currency  \\\n",
       "180  5000.0  5087.00      3                  False       20        12   \n",
       "181  3000.0  3007.56      3                  False       20        12   \n",
       "182  3000.0  4410.00      3                  False       20        12   \n",
       "183  2000.0  2041.00      3                  False       20        12   \n",
       "184  2500.0  2524.00      3                  False       20        12   \n",
       "\n",
       "     currency_symbol  staff_pick  backers_count  usd_pledged  ...  \\\n",
       "180                0       False             74      5087.00  ...   \n",
       "181                0       False             72      3007.56  ...   \n",
       "182                0       False             73      4410.00  ...   \n",
       "183                0       False             34      2041.00  ...   \n",
       "184                0       False             32      2524.00  ...   \n",
       "\n",
       "    created_at_yr created_at_hr launched_at_month  launched_at_day  \\\n",
       "180          2015            20                 3                3   \n",
       "181          2013            21                 5                1   \n",
       "182          2012            16                 6                6   \n",
       "183          2014             7                 2               28   \n",
       "184          2015             8                 6               12   \n",
       "\n",
       "     launched_at_yr  launched_at_hr  create_to_launch launch_to_deadline  \\\n",
       "180            2015               7           33 days            45 days   \n",
       "181            2013               9            8 days            30 days   \n",
       "182            2012              17            4 days            10 days   \n",
       "183            2014              11            0 days            30 days   \n",
       "184            2015              13           22 days            21 days   \n",
       "\n",
       "    launch_to_state_change percent_of_goal  \n",
       "180                45 days         1.01740  \n",
       "181                30 days         1.00252  \n",
       "182                10 days         1.47000  \n",
       "183                30 days         1.02050  \n",
       "184                21 days         1.00960  \n",
       "\n",
       "[5 rows x 41 columns]"
      ],
      "text/html": [
       "<div>\n",
       "<style scoped>\n",
       "    .dataframe tbody tr th:only-of-type {\n",
       "        vertical-align: middle;\n",
       "    }\n",
       "\n",
       "    .dataframe tbody tr th {\n",
       "        vertical-align: top;\n",
       "    }\n",
       "\n",
       "    .dataframe thead th {\n",
       "        text-align: right;\n",
       "    }\n",
       "</style>\n",
       "<table border=\"1\" class=\"dataframe\">\n",
       "  <thead>\n",
       "    <tr style=\"text-align: right;\">\n",
       "      <th></th>\n",
       "      <th>goal</th>\n",
       "      <th>pledged</th>\n",
       "      <th>state</th>\n",
       "      <th>disable_communication</th>\n",
       "      <th>country</th>\n",
       "      <th>currency</th>\n",
       "      <th>currency_symbol</th>\n",
       "      <th>staff_pick</th>\n",
       "      <th>backers_count</th>\n",
       "      <th>usd_pledged</th>\n",
       "      <th>...</th>\n",
       "      <th>created_at_yr</th>\n",
       "      <th>created_at_hr</th>\n",
       "      <th>launched_at_month</th>\n",
       "      <th>launched_at_day</th>\n",
       "      <th>launched_at_yr</th>\n",
       "      <th>launched_at_hr</th>\n",
       "      <th>create_to_launch</th>\n",
       "      <th>launch_to_deadline</th>\n",
       "      <th>launch_to_state_change</th>\n",
       "      <th>percent_of_goal</th>\n",
       "    </tr>\n",
       "  </thead>\n",
       "  <tbody>\n",
       "    <tr>\n",
       "      <th>180</th>\n",
       "      <td>5000.0</td>\n",
       "      <td>5087.00</td>\n",
       "      <td>3</td>\n",
       "      <td>False</td>\n",
       "      <td>20</td>\n",
       "      <td>12</td>\n",
       "      <td>0</td>\n",
       "      <td>False</td>\n",
       "      <td>74</td>\n",
       "      <td>5087.00</td>\n",
       "      <td>...</td>\n",
       "      <td>2015</td>\n",
       "      <td>20</td>\n",
       "      <td>3</td>\n",
       "      <td>3</td>\n",
       "      <td>2015</td>\n",
       "      <td>7</td>\n",
       "      <td>33 days</td>\n",
       "      <td>45 days</td>\n",
       "      <td>45 days</td>\n",
       "      <td>1.01740</td>\n",
       "    </tr>\n",
       "    <tr>\n",
       "      <th>181</th>\n",
       "      <td>3000.0</td>\n",
       "      <td>3007.56</td>\n",
       "      <td>3</td>\n",
       "      <td>False</td>\n",
       "      <td>20</td>\n",
       "      <td>12</td>\n",
       "      <td>0</td>\n",
       "      <td>False</td>\n",
       "      <td>72</td>\n",
       "      <td>3007.56</td>\n",
       "      <td>...</td>\n",
       "      <td>2013</td>\n",
       "      <td>21</td>\n",
       "      <td>5</td>\n",
       "      <td>1</td>\n",
       "      <td>2013</td>\n",
       "      <td>9</td>\n",
       "      <td>8 days</td>\n",
       "      <td>30 days</td>\n",
       "      <td>30 days</td>\n",
       "      <td>1.00252</td>\n",
       "    </tr>\n",
       "    <tr>\n",
       "      <th>182</th>\n",
       "      <td>3000.0</td>\n",
       "      <td>4410.00</td>\n",
       "      <td>3</td>\n",
       "      <td>False</td>\n",
       "      <td>20</td>\n",
       "      <td>12</td>\n",
       "      <td>0</td>\n",
       "      <td>False</td>\n",
       "      <td>73</td>\n",
       "      <td>4410.00</td>\n",
       "      <td>...</td>\n",
       "      <td>2012</td>\n",
       "      <td>16</td>\n",
       "      <td>6</td>\n",
       "      <td>6</td>\n",
       "      <td>2012</td>\n",
       "      <td>17</td>\n",
       "      <td>4 days</td>\n",
       "      <td>10 days</td>\n",
       "      <td>10 days</td>\n",
       "      <td>1.47000</td>\n",
       "    </tr>\n",
       "    <tr>\n",
       "      <th>183</th>\n",
       "      <td>2000.0</td>\n",
       "      <td>2041.00</td>\n",
       "      <td>3</td>\n",
       "      <td>False</td>\n",
       "      <td>20</td>\n",
       "      <td>12</td>\n",
       "      <td>0</td>\n",
       "      <td>False</td>\n",
       "      <td>34</td>\n",
       "      <td>2041.00</td>\n",
       "      <td>...</td>\n",
       "      <td>2014</td>\n",
       "      <td>7</td>\n",
       "      <td>2</td>\n",
       "      <td>28</td>\n",
       "      <td>2014</td>\n",
       "      <td>11</td>\n",
       "      <td>0 days</td>\n",
       "      <td>30 days</td>\n",
       "      <td>30 days</td>\n",
       "      <td>1.02050</td>\n",
       "    </tr>\n",
       "    <tr>\n",
       "      <th>184</th>\n",
       "      <td>2500.0</td>\n",
       "      <td>2524.00</td>\n",
       "      <td>3</td>\n",
       "      <td>False</td>\n",
       "      <td>20</td>\n",
       "      <td>12</td>\n",
       "      <td>0</td>\n",
       "      <td>False</td>\n",
       "      <td>32</td>\n",
       "      <td>2524.00</td>\n",
       "      <td>...</td>\n",
       "      <td>2015</td>\n",
       "      <td>8</td>\n",
       "      <td>6</td>\n",
       "      <td>12</td>\n",
       "      <td>2015</td>\n",
       "      <td>13</td>\n",
       "      <td>22 days</td>\n",
       "      <td>21 days</td>\n",
       "      <td>21 days</td>\n",
       "      <td>1.00960</td>\n",
       "    </tr>\n",
       "  </tbody>\n",
       "</table>\n",
       "<p>5 rows × 41 columns</p>\n",
       "</div>"
      ]
     },
     "execution_count": 124,
     "metadata": {},
     "output_type": "execute_result"
    }
   ],
   "execution_count": 124
  },
  {
   "cell_type": "code",
   "id": "b7226189",
   "metadata": {
    "ExecuteTime": {
     "end_time": "2025-04-28T18:27:58.711038Z",
     "start_time": "2025-04-28T18:27:58.670964Z"
    }
   },
   "source": [
    "num_success_goal = achieved_goal[achieved_goal['state'] == 3]['state'].count()\n",
    "total_reached_goal = achieved_goal.shape[0]\n",
    "failure_rate_when_goal_reached = (total_reached_goal-num_success_goal) / total_reached_goal\n",
    "num_success_total = df[df['state'] == 3]['state'].count()\n",
    "num_success_no_goal = num_success_total-num_success_goal\n",
    "percent_success = num_success_total/df.shape[0]\n",
    "\n",
    "print(f\"Total success rate {percent_success}\")\n",
    "print(f\"Success rate when goal reached {num_success_goal/total_reached_goal}\")\n",
    "print(f\"Failure rate when goal reached: {failure_rate_when_goal_reached}\")\n",
    "print(f\"numbers of success when goal reached: {num_success_goal}\")\n",
    "print(f\"number of failure when goal reached: {total_reached_goal-num_success_goal}\")\n",
    "print(f'Number of goals reached: {total_reached_goal}')\n",
    "print(f\"Percent that reached goal {total_reached_goal/df.shape[0]}\")\n",
    "print(f'Success that didnt reach goal {num_success_no_goal}')\n",
    "print(f\"Success rate when goal isn't reached {num_success_no_goal/(df.shape[0]-achieved_goal.shape[0])}\")\n"
   ],
   "outputs": [
    {
     "name": "stdout",
     "output_type": "stream",
     "text": [
      "Total success rate 0.2916828227995347\n",
      "Success rate when goal reached 0.9717422896818989\n",
      "Failure rate when goal reached: 0.028257710318101082\n",
      "numbers of success when goal reached: 6018\n",
      "number of failure when goal reached: 175\n",
      "Number of goals reached: 6193\n",
      "Percent that reached goal 0.30016479255525397\n",
      "Success that didnt reach goal 0\n",
      "Success rate when goal isn't reached 0.0\n"
     ]
    }
   ],
   "execution_count": 130
  },
  {
   "metadata": {
    "ExecuteTime": {
     "end_time": "2025-04-28T23:32:54.819290Z",
     "start_time": "2025-04-28T23:32:54.796420Z"
    }
   },
   "cell_type": "code",
   "source": [
    "X = df.drop(columns=['state','creator','location'], axis=1)\n",
    "Y = df['state']"
   ],
   "id": "c8beb6e1c36a27f",
   "outputs": [],
   "execution_count": 40
  },
  {
   "metadata": {
    "ExecuteTime": {
     "end_time": "2025-04-28T23:32:56.345449Z",
     "start_time": "2025-04-28T23:32:56.301790Z"
    }
   },
   "cell_type": "code",
   "source": [
    "from sklearn.model_selection import train_test_split\n",
    "from sklearn.preprocessing import StandardScaler\n",
    "# scaler = StandardScaler()\n",
    "# X1 = scaler.fit_transform(X)\n",
    "# X_scaled = pd.DataFrame(X1, columns=X.columns)\n",
    "numeric_cols = X.select_dtypes(include=['number']).columns\n",
    "non_numeric_cols = X.select_dtypes(exclude=['number']).columns\n",
    "\n",
    "# Scale only numeric columns\n",
    "scaler = StandardScaler()\n",
    "X_scaled_numeric = pd.DataFrame(scaler.fit_transform(X[numeric_cols]), columns=numeric_cols, index=X.index)\n",
    "\n",
    "# Combine scaled numeric columns with untransformed object columns\n",
    "X_scaled = pd.concat([X_scaled_numeric, X[non_numeric_cols]], axis=1)\n",
    "X_train, X_test, y_train, y_test = train_test_split(X_scaled, Y, test_size=0.2, random_state=42)"
   ],
   "id": "241afc42ec1f213c",
   "outputs": [],
   "execution_count": 41
  },
  {
   "metadata": {
    "ExecuteTime": {
     "end_time": "2025-04-28T23:27:38.365673Z",
     "start_time": "2025-04-28T23:27:38.354075Z"
    }
   },
   "cell_type": "code",
   "source": "X_train.head()",
   "id": "d6de3fdf10b61be3",
   "outputs": [
    {
     "data": {
      "text/plain": [
       "           goal   pledged   country  currency  currency_symbol  backers_count  \\\n",
       "6244  -0.033026 -0.177541 -2.061587 -2.067867        -0.514113      -0.150310   \n",
       "9380  -0.044258  0.197473  0.626138  0.644606        -0.514113       0.145112   \n",
       "6105  -0.062977 -0.177541  0.626138  0.644606        -0.514113      -0.150310   \n",
       "15825 -0.045755 -0.066636  0.626138  0.644606        -0.514113       0.075553   \n",
       "19026 -0.048001 -0.176794  0.626138  0.644606        -0.514113      -0.147855   \n",
       "\n",
       "       usd_pledged  category  source_url  name_len_clean  ...  \\\n",
       "6244     -0.181139  1.405795    0.614846       -1.775362  ...   \n",
       "9380      0.210196  0.735533   -0.091248       -0.120980  ...   \n",
       "6105     -0.181139  1.405795    0.614846        1.946998  ...   \n",
       "15825    -0.065407 -0.604990   -0.797341        0.706212  ...   \n",
       "19026    -0.180359 -1.677408   -1.150388        0.292616  ...   \n",
       "\n",
       "       create_to_launch  launch_to_deadline  launch_to_state_change  \\\n",
       "6244          -0.419271           -0.397284                     NaN   \n",
       "9380          -0.437274           -0.313058               -0.152387   \n",
       "6105          -0.437274           -0.565736                     NaN   \n",
       "15825          0.489886            0.023845                     NaN   \n",
       "19026         -0.194232            0.866102                     NaN   \n",
       "\n",
       "       disable_communication  staff_pick  spotlight  deadline_weekday  \\\n",
       "6244                   False       False      False         Wednesday   \n",
       "9380                   False       False       True            Monday   \n",
       "6105                   False       False      False            Friday   \n",
       "15825                  False       False      False            Monday   \n",
       "19026                  False       False      False            Sunday   \n",
       "\n",
       "       state_changed_at_weekday  created_at_weekday  launched_at_weekday  \n",
       "6244                  Wednesday              Friday               Monday  \n",
       "9380                     Monday            Thursday               Friday  \n",
       "6105                     Friday           Wednesday             Thursday  \n",
       "15825                    Monday             Tuesday               Monday  \n",
       "19026                    Sunday           Wednesday             Thursday  \n",
       "\n",
       "[5 rows x 37 columns]"
      ],
      "text/html": [
       "<div>\n",
       "<style scoped>\n",
       "    .dataframe tbody tr th:only-of-type {\n",
       "        vertical-align: middle;\n",
       "    }\n",
       "\n",
       "    .dataframe tbody tr th {\n",
       "        vertical-align: top;\n",
       "    }\n",
       "\n",
       "    .dataframe thead th {\n",
       "        text-align: right;\n",
       "    }\n",
       "</style>\n",
       "<table border=\"1\" class=\"dataframe\">\n",
       "  <thead>\n",
       "    <tr style=\"text-align: right;\">\n",
       "      <th></th>\n",
       "      <th>goal</th>\n",
       "      <th>pledged</th>\n",
       "      <th>country</th>\n",
       "      <th>currency</th>\n",
       "      <th>currency_symbol</th>\n",
       "      <th>backers_count</th>\n",
       "      <th>usd_pledged</th>\n",
       "      <th>category</th>\n",
       "      <th>source_url</th>\n",
       "      <th>name_len_clean</th>\n",
       "      <th>...</th>\n",
       "      <th>create_to_launch</th>\n",
       "      <th>launch_to_deadline</th>\n",
       "      <th>launch_to_state_change</th>\n",
       "      <th>disable_communication</th>\n",
       "      <th>staff_pick</th>\n",
       "      <th>spotlight</th>\n",
       "      <th>deadline_weekday</th>\n",
       "      <th>state_changed_at_weekday</th>\n",
       "      <th>created_at_weekday</th>\n",
       "      <th>launched_at_weekday</th>\n",
       "    </tr>\n",
       "  </thead>\n",
       "  <tbody>\n",
       "    <tr>\n",
       "      <th>6244</th>\n",
       "      <td>-0.033026</td>\n",
       "      <td>-0.177541</td>\n",
       "      <td>-2.061587</td>\n",
       "      <td>-2.067867</td>\n",
       "      <td>-0.514113</td>\n",
       "      <td>-0.150310</td>\n",
       "      <td>-0.181139</td>\n",
       "      <td>1.405795</td>\n",
       "      <td>0.614846</td>\n",
       "      <td>-1.775362</td>\n",
       "      <td>...</td>\n",
       "      <td>-0.419271</td>\n",
       "      <td>-0.397284</td>\n",
       "      <td>NaN</td>\n",
       "      <td>False</td>\n",
       "      <td>False</td>\n",
       "      <td>False</td>\n",
       "      <td>Wednesday</td>\n",
       "      <td>Wednesday</td>\n",
       "      <td>Friday</td>\n",
       "      <td>Monday</td>\n",
       "    </tr>\n",
       "    <tr>\n",
       "      <th>9380</th>\n",
       "      <td>-0.044258</td>\n",
       "      <td>0.197473</td>\n",
       "      <td>0.626138</td>\n",
       "      <td>0.644606</td>\n",
       "      <td>-0.514113</td>\n",
       "      <td>0.145112</td>\n",
       "      <td>0.210196</td>\n",
       "      <td>0.735533</td>\n",
       "      <td>-0.091248</td>\n",
       "      <td>-0.120980</td>\n",
       "      <td>...</td>\n",
       "      <td>-0.437274</td>\n",
       "      <td>-0.313058</td>\n",
       "      <td>-0.152387</td>\n",
       "      <td>False</td>\n",
       "      <td>False</td>\n",
       "      <td>True</td>\n",
       "      <td>Monday</td>\n",
       "      <td>Monday</td>\n",
       "      <td>Thursday</td>\n",
       "      <td>Friday</td>\n",
       "    </tr>\n",
       "    <tr>\n",
       "      <th>6105</th>\n",
       "      <td>-0.062977</td>\n",
       "      <td>-0.177541</td>\n",
       "      <td>0.626138</td>\n",
       "      <td>0.644606</td>\n",
       "      <td>-0.514113</td>\n",
       "      <td>-0.150310</td>\n",
       "      <td>-0.181139</td>\n",
       "      <td>1.405795</td>\n",
       "      <td>0.614846</td>\n",
       "      <td>1.946998</td>\n",
       "      <td>...</td>\n",
       "      <td>-0.437274</td>\n",
       "      <td>-0.565736</td>\n",
       "      <td>NaN</td>\n",
       "      <td>False</td>\n",
       "      <td>False</td>\n",
       "      <td>False</td>\n",
       "      <td>Friday</td>\n",
       "      <td>Friday</td>\n",
       "      <td>Wednesday</td>\n",
       "      <td>Thursday</td>\n",
       "    </tr>\n",
       "    <tr>\n",
       "      <th>15825</th>\n",
       "      <td>-0.045755</td>\n",
       "      <td>-0.066636</td>\n",
       "      <td>0.626138</td>\n",
       "      <td>0.644606</td>\n",
       "      <td>-0.514113</td>\n",
       "      <td>0.075553</td>\n",
       "      <td>-0.065407</td>\n",
       "      <td>-0.604990</td>\n",
       "      <td>-0.797341</td>\n",
       "      <td>0.706212</td>\n",
       "      <td>...</td>\n",
       "      <td>0.489886</td>\n",
       "      <td>0.023845</td>\n",
       "      <td>NaN</td>\n",
       "      <td>False</td>\n",
       "      <td>False</td>\n",
       "      <td>False</td>\n",
       "      <td>Monday</td>\n",
       "      <td>Monday</td>\n",
       "      <td>Tuesday</td>\n",
       "      <td>Monday</td>\n",
       "    </tr>\n",
       "    <tr>\n",
       "      <th>19026</th>\n",
       "      <td>-0.048001</td>\n",
       "      <td>-0.176794</td>\n",
       "      <td>0.626138</td>\n",
       "      <td>0.644606</td>\n",
       "      <td>-0.514113</td>\n",
       "      <td>-0.147855</td>\n",
       "      <td>-0.180359</td>\n",
       "      <td>-1.677408</td>\n",
       "      <td>-1.150388</td>\n",
       "      <td>0.292616</td>\n",
       "      <td>...</td>\n",
       "      <td>-0.194232</td>\n",
       "      <td>0.866102</td>\n",
       "      <td>NaN</td>\n",
       "      <td>False</td>\n",
       "      <td>False</td>\n",
       "      <td>False</td>\n",
       "      <td>Sunday</td>\n",
       "      <td>Sunday</td>\n",
       "      <td>Wednesday</td>\n",
       "      <td>Thursday</td>\n",
       "    </tr>\n",
       "  </tbody>\n",
       "</table>\n",
       "<p>5 rows × 37 columns</p>\n",
       "</div>"
      ]
     },
     "execution_count": 30,
     "metadata": {},
     "output_type": "execute_result"
    }
   ],
   "execution_count": 30
  },
  {
   "cell_type": "code",
   "id": "6a6caf32",
   "metadata": {
    "ExecuteTime": {
     "end_time": "2025-04-28T20:59:24.960209Z",
     "start_time": "2025-04-28T20:59:24.950245Z"
    }
   },
   "source": [
    "from sklearn.svm import SVC, LinearSVC\n",
    "models = []\n",
    "models.append(('Linear SVC', LinearSVC(C=100, loss = 'hinge', random_state=1,\n",
    "max_iter=1000000, dual = False)))\n",
    "models.append(('Kernel SVC', SVC(kernel = 'rbf', degree = 2, C=100.0,\n",
    "random_state=1, max_iter = 1000000)))\n"
   ],
   "outputs": [],
   "execution_count": 139
  },
  {
   "metadata": {
    "ExecuteTime": {
     "end_time": "2025-04-28T23:33:00.554987Z",
     "start_time": "2025-04-28T23:33:00.516927Z"
    }
   },
   "cell_type": "code",
   "source": [
    "from sklearn.model_selection import cross_val_score, KFold\n",
    "results = []\n",
    "names = []\n",
    "scoring = 'accuracy'\n",
    "for name, model in models:\n",
    "    kfold = KFold(n_splits=10, random_state=7, shuffle = True)\n",
    "    cv_results = cross_val_score(model, X_scaled_numeric, Y, cv=kfold, scoring=scoring)\n",
    "    results.append(cv_results)\n",
    "    names.append(name)\n",
    "    msg = \"%s: %f (%f)\" % (name, cv_results.mean(), cv_results.std())\n",
    "    print(msg)"
   ],
   "id": "13fff1f381e33c",
   "outputs": [
    {
     "ename": "NameError",
     "evalue": "name 'models' is not defined",
     "output_type": "error",
     "traceback": [
      "\u001B[31m---------------------------------------------------------------------------\u001B[39m",
      "\u001B[31mNameError\u001B[39m                                 Traceback (most recent call last)",
      "\u001B[36mCell\u001B[39m\u001B[36m \u001B[39m\u001B[32mIn[42]\u001B[39m\u001B[32m, line 5\u001B[39m\n\u001B[32m      3\u001B[39m names = []\n\u001B[32m      4\u001B[39m scoring = \u001B[33m'\u001B[39m\u001B[33maccuracy\u001B[39m\u001B[33m'\u001B[39m\n\u001B[32m----> \u001B[39m\u001B[32m5\u001B[39m \u001B[38;5;28;01mfor\u001B[39;00m name, model \u001B[38;5;129;01min\u001B[39;00m \u001B[43mmodels\u001B[49m:\n\u001B[32m      6\u001B[39m     kfold = KFold(n_splits=\u001B[32m10\u001B[39m, random_state=\u001B[32m7\u001B[39m, shuffle = \u001B[38;5;28;01mTrue\u001B[39;00m)\n\u001B[32m      7\u001B[39m     cv_results = cross_val_score(model, X_scaled_numeric, Y, cv=kfold, scoring=scoring)\n",
      "\u001B[31mNameError\u001B[39m: name 'models' is not defined"
     ]
    }
   ],
   "execution_count": 42
  },
  {
   "metadata": {
    "ExecuteTime": {
     "end_time": "2025-04-28T23:30:38.155245Z",
     "start_time": "2025-04-28T23:30:38.125968Z"
    }
   },
   "cell_type": "code",
   "source": [
    "y_train.dtypes\n",
    "X_train.drop('launch_to_state_change', axis=1, inplace=True)"
   ],
   "id": "2e38af667fb0c529",
   "outputs": [],
   "execution_count": 35
  },
  {
   "metadata": {
    "ExecuteTime": {
     "end_time": "2025-04-28T23:33:49.204430Z",
     "start_time": "2025-04-28T23:33:49.186429Z"
    }
   },
   "cell_type": "code",
   "source": [
    "X_train.isnull().sum()\n",
    "X_train.drop('launch_to_state_change', axis=1, inplace=True)"
   ],
   "id": "9ba2e4619cb808d",
   "outputs": [],
   "execution_count": 45
  },
  {
   "metadata": {
    "ExecuteTime": {
     "end_time": "2025-04-28T23:39:25.063569Z",
     "start_time": "2025-04-28T23:37:20.034696Z"
    }
   },
   "cell_type": "code",
   "source": [
    "from sklearn.tree import DecisionTreeClassifier\n",
    "from sklearn.ensemble import AdaBoostClassifier\n",
    "from sklearn.model_selection import cross_val_score, KFold\n",
    "for i in range(1,10):\n",
    "    ada_clf = AdaBoostClassifier(\n",
    "    DecisionTreeClassifier(max_depth=2), n_estimators=200,\n",
    "    algorithm=\"SAMME.R\", learning_rate=(i/10), random_state=42)\n",
    "    score = cross_val_score(ada_clf, X_train, y_train, cv=5, n_jobs=-1)\n",
    "    print(f'{score.mean()} achienved for AdaBoost with learning rate of {i/10}')"
   ],
   "id": "485740dc7e821580",
   "outputs": [
    {
     "name": "stdout",
     "output_type": "stream",
     "text": [
      "0.8043017267494699 achienved for AdaBoost with learning rate of 0.1\n",
      "0.7952741593456528 achienved for AdaBoost with learning rate of 0.2\n",
      "0.8087246289003331 achienved for AdaBoost with learning rate of 0.3\n",
      "0.7740078764010906 achienved for AdaBoost with learning rate of 0.4\n",
      "0.7813995758860951 achienved for AdaBoost with learning rate of 0.5\n",
      "0.7884277491669192 achienved for AdaBoost with learning rate of 0.6\n",
      "0.7243865495304453 achienved for AdaBoost with learning rate of 0.7\n",
      "0.7763707967282641 achienved for AdaBoost with learning rate of 0.8\n",
      "0.8030293850348379 achienved for AdaBoost with learning rate of 0.9\n"
     ]
    }
   ],
   "execution_count": 49
  },
  {
   "metadata": {},
   "cell_type": "code",
   "outputs": [],
   "execution_count": null,
   "source": "from sklearn.ensemble import GradientBoostingClassifier",
   "id": "4aac5f497c0508aa"
  },
  {
   "metadata": {
    "ExecuteTime": {
     "end_time": "2025-04-28T23:37:20.020862Z",
     "start_time": "2025-04-28T23:36:28.515485Z"
    }
   },
   "cell_type": "code",
   "source": [
    "from sklearn.ensemble import RandomForestClassifier\n",
    "for i in range(2, 11):\n",
    "    rnd_forest = RandomForestClassifier(max_leaf_nodes=16, n_jobs=-1, random_state=42, max_depth=i, n_estimators=500)\n",
    "    score = cross_val_score(rnd_forest, X_train, y_train,cv=5, n_jobs=-1)\n",
    "    print(f\"Random forest with {i} depth {score.mean()}\")\n"
   ],
   "id": "647f95268c461c68",
   "outputs": [
    {
     "name": "stdout",
     "output_type": "stream",
     "text": [
      "Random forest with 2 depth 0.8394425931535897\n",
      "Random forest with 3 depth 0.8580430172674947\n",
      "Random forest with 4 depth 0.8656770675552863\n",
      "Random forest with 5 depth 0.8667070584671311\n",
      "Random forest with 6 depth 0.8694335049984854\n",
      "Random forest with 7 depth 0.8720387761284458\n",
      "Random forest with 8 depth 0.8724628900333233\n",
      "Random forest with 9 depth 0.8724628900333233\n",
      "Random forest with 10 depth 0.8726446531354135\n"
     ]
    }
   ],
   "execution_count": 48
  },
  {
   "metadata": {},
   "cell_type": "code",
   "outputs": [],
   "execution_count": null,
   "source": [
    "from sklearn.ensemble import BaggingClassifier\n",
    "\n",
    "for i in range(500,2001, 250):\n",
    "    for a in range(1,5):\n",
    "        bag_clf = BaggingClassifier(\n",
    "            DecisionTreeClassifier(random_state=42, max_depth=a), n_estimators=i,  bootstrap=True, random_state=42, n_jobs=-1)\n",
    "        score = cross_val_score(bag_clf, X_train, y_train, cv=5, n_jobs=-1)\n",
    "        print(f\"{score} achieved for Bagging with {i} estimators, {a} depth {score.mean()}\")\n"
   ],
   "id": "314bfa4f75eb66b4"
  }
 ],
 "metadata": {
  "kernelspec": {
   "display_name": ".env",
   "language": "python",
   "name": "python3"
  },
  "language_info": {
   "codemirror_mode": {
    "name": "ipython",
    "version": 3
   },
   "file_extension": ".py",
   "mimetype": "text/x-python",
   "name": "python",
   "nbconvert_exporter": "python",
   "pygments_lexer": "ipython3",
   "version": "3.11.1"
  }
 },
 "nbformat": 4,
 "nbformat_minor": 5
}
